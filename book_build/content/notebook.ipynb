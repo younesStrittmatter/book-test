{
 "cells": [
  {
   "metadata": {},
   "cell_type": "markdown",
   "source": [
    "# notebook Younes Strittmatter\n",
    "\n",
    "![alt text](/logo.png)"
   ],
   "id": "2028af4847159cb5"
  },
  {
   "metadata": {},
   "cell_type": "code",
   "outputs": [],
   "execution_count": null,
   "source": [
    "#| label: \"cell1\"\n",
    "print(\"something\")"
   ],
   "id": "475f17fdf5c11fe4"
  },
  {
   "metadata": {},
   "cell_type": "markdown",
   "source": [
    "## 📌 Introduction\n",
    "\n",
    "This section provides an overview of the topic and the learning objectives. It can also include motivating examples or a brief history of the topic.\n",
    "\n",
    "---\n",
    "\n",
    "\n",
    "```python\n",
    "blabla\n",
    "```\n",
    "\n"
   ],
   "id": "90c0cdb258d9f369"
  },
  {
   "metadata": {},
   "cell_type": "markdown",
   "source": [
    "<div class=\"introduction\">\n",
    "\n",
    "here, i reference [cell1](#cell1)\n",
    "\n",
    "</div>"
   ],
   "id": "6cfa24c8094039eb"
  },
  {
   "metadata": {
    "ExecuteTime": {
     "end_time": "2025-01-25T02:37:13.195519Z",
     "start_time": "2025-01-25T02:37:12.596780Z"
    }
   },
   "cell_type": "code",
   "source": [
    "!pip install markdown\n",
    "from markdown import markdown\n",
    "\n",
    "html = markdown(\"# HI\")\n",
    "print(html)"
   ],
   "id": "ac757b59a1904125",
   "outputs": [
    {
     "name": "stdout",
     "output_type": "stream",
     "text": [
      "Requirement already satisfied: markdown in /Users/younesstrittmatter/Documents/GitHub/younesStrittmatter/personal/book-test/.venv/lib/python3.11/site-packages (3.7)\r\n",
      "\r\n",
      "\u001B[1m[\u001B[0m\u001B[34;49mnotice\u001B[0m\u001B[1;39;49m]\u001B[0m\u001B[39;49m A new release of pip is available: \u001B[0m\u001B[31;49m24.2\u001B[0m\u001B[39;49m -> \u001B[0m\u001B[32;49m24.3.1\u001B[0m\r\n",
      "\u001B[1m[\u001B[0m\u001B[34;49mnotice\u001B[0m\u001B[1;39;49m]\u001B[0m\u001B[39;49m To update, run: \u001B[0m\u001B[32;49mpip install --upgrade pip\u001B[0m\r\n",
      "<h1>HI</h1>\n"
     ]
    }
   ],
   "execution_count": 2
  },
  {
   "metadata": {},
   "cell_type": "markdown",
   "source": [
    "```{code-cell} python\n",
    ":tags: [remove-input]\n",
    "print(\"This will show output with no input!\")\n",
    "```"
   ],
   "id": "a786195f940dedc1"
  }
 ],
 "metadata": {
  "kernelspec": {
   "display_name": "Python 3",
   "language": "python",
   "name": "python3"
  },
  "language_info": {
   "codemirror_mode": {
    "name": "ipython",
    "version": 2
   },
   "file_extension": ".py",
   "mimetype": "text/x-python",
   "name": "python",
   "nbconvert_exporter": "python",
   "pygments_lexer": "ipython2",
   "version": "2.7.6"
  }
 },
 "nbformat": 4,
 "nbformat_minor": 5
}
